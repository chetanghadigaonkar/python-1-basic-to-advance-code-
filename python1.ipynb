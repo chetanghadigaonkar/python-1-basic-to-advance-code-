{
 "cells": [
  {
   "cell_type": "markdown",
   "id": "ea586363",
   "metadata": {},
   "source": [
    "# introduction part"
   ]
  },
  {
   "cell_type": "code",
   "execution_count": 4,
   "id": "2a07c135",
   "metadata": {},
   "outputs": [],
   "source": [
    "a=10\n"
   ]
  },
  {
   "cell_type": "code",
   "execution_count": 5,
   "id": "f7a8ad74",
   "metadata": {},
   "outputs": [
    {
     "name": "stdout",
     "output_type": "stream",
     "text": [
      "10\n"
     ]
    }
   ],
   "source": [
    "print(a)"
   ]
  },
  {
   "cell_type": "code",
   "execution_count": 6,
   "id": "9aabf0d5",
   "metadata": {},
   "outputs": [
    {
     "name": "stdout",
     "output_type": "stream",
     "text": [
      "<class 'int'>\n"
     ]
    }
   ],
   "source": [
    "print(type(a))"
   ]
  },
  {
   "cell_type": "code",
   "execution_count": 7,
   "id": "b1fd8eb0",
   "metadata": {},
   "outputs": [],
   "source": [
    "b=20.35"
   ]
  },
  {
   "cell_type": "code",
   "execution_count": 8,
   "id": "f5bb51a4",
   "metadata": {},
   "outputs": [
    {
     "name": "stdout",
     "output_type": "stream",
     "text": [
      "<class 'float'> 20.35\n"
     ]
    }
   ],
   "source": [
    "print(type(b),b)"
   ]
  },
  {
   "cell_type": "code",
   "execution_count": 9,
   "id": "937b39d7",
   "metadata": {},
   "outputs": [],
   "source": [
    "c=\"this is a python first class inuron\""
   ]
  },
  {
   "cell_type": "code",
   "execution_count": 10,
   "id": "664ccf8d",
   "metadata": {},
   "outputs": [
    {
     "name": "stdout",
     "output_type": "stream",
     "text": [
      "<class 'str'> this is a python first class inuron\n"
     ]
    }
   ],
   "source": [
    "print(type(c),c)"
   ]
  },
  {
   "cell_type": "code",
   "execution_count": 12,
   "id": "abf45d11",
   "metadata": {},
   "outputs": [],
   "source": [
    "b=True"
   ]
  },
  {
   "cell_type": "code",
   "execution_count": 13,
   "id": "37dfb59d",
   "metadata": {},
   "outputs": [
    {
     "name": "stdout",
     "output_type": "stream",
     "text": [
      "<class 'bool'> True\n"
     ]
    }
   ],
   "source": [
    "print(type(b),b)"
   ]
  },
  {
   "cell_type": "code",
   "execution_count": 15,
   "id": "0c0fc140",
   "metadata": {},
   "outputs": [],
   "source": [
    "c=False"
   ]
  },
  {
   "cell_type": "code",
   "execution_count": 16,
   "id": "f0469d3a",
   "metadata": {},
   "outputs": [
    {
     "name": "stdout",
     "output_type": "stream",
     "text": [
      "<class 'bool'> False\n"
     ]
    }
   ],
   "source": [
    "print(type(c),c)"
   ]
  },
  {
   "cell_type": "code",
   "execution_count": 17,
   "id": "e505cf55",
   "metadata": {},
   "outputs": [
    {
     "data": {
      "text/plain": [
       "1"
      ]
     },
     "execution_count": 17,
     "metadata": {},
     "output_type": "execute_result"
    }
   ],
   "source": [
    "True-False"
   ]
  },
  {
   "cell_type": "code",
   "execution_count": 18,
   "id": "78b2144a",
   "metadata": {},
   "outputs": [
    {
     "data": {
      "text/plain": [
       "0"
      ]
     },
     "execution_count": 18,
     "metadata": {},
     "output_type": "execute_result"
    }
   ],
   "source": [
    "True-True"
   ]
  },
  {
   "cell_type": "code",
   "execution_count": 19,
   "id": "2345b44d",
   "metadata": {},
   "outputs": [
    {
     "ename": "ZeroDivisionError",
     "evalue": "division by zero",
     "output_type": "error",
     "traceback": [
      "\u001b[1;31m---------------------------------------------------------------------------\u001b[0m",
      "\u001b[1;31mZeroDivisionError\u001b[0m                         Traceback (most recent call last)",
      "Input \u001b[1;32mIn [19]\u001b[0m, in \u001b[0;36m<cell line: 1>\u001b[1;34m()\u001b[0m\n\u001b[1;32m----> 1\u001b[0m \u001b[38;5;28;43;01mTrue\u001b[39;49;00m\u001b[38;5;241;43m/\u001b[39;49m\u001b[38;5;28;43;01mFalse\u001b[39;49;00m\n",
      "\u001b[1;31mZeroDivisionError\u001b[0m: division by zero"
     ]
    }
   ],
   "source": [
    "True/False\n"
   ]
  },
  {
   "cell_type": "code",
   "execution_count": 23,
   "id": "085ca249",
   "metadata": {},
   "outputs": [],
   "source": [
    "n=5+7j\n"
   ]
  },
  {
   "cell_type": "code",
   "execution_count": 24,
   "id": "5987f202",
   "metadata": {},
   "outputs": [
    {
     "name": "stdout",
     "output_type": "stream",
     "text": [
      "<class 'complex'> (5+7j)\n"
     ]
    }
   ],
   "source": [
    "print(type(n),n)"
   ]
  },
  {
   "cell_type": "code",
   "execution_count": 25,
   "id": "9eccabc2",
   "metadata": {},
   "outputs": [
    {
     "data": {
      "text/plain": [
       "(10+14j)"
      ]
     },
     "execution_count": 25,
     "metadata": {},
     "output_type": "execute_result"
    }
   ],
   "source": [
    "n+n"
   ]
  },
  {
   "cell_type": "code",
   "execution_count": 26,
   "id": "e74fa80a",
   "metadata": {},
   "outputs": [
    {
     "data": {
      "text/plain": [
       "(5+7j)"
      ]
     },
     "execution_count": 26,
     "metadata": {},
     "output_type": "execute_result"
    }
   ],
   "source": [
    "n"
   ]
  },
  {
   "cell_type": "code",
   "execution_count": 27,
   "id": "cffdbf92",
   "metadata": {},
   "outputs": [
    {
     "data": {
      "text/plain": [
       "5.0"
      ]
     },
     "execution_count": 27,
     "metadata": {},
     "output_type": "execute_result"
    }
   ],
   "source": [
    "n.real\n"
   ]
  },
  {
   "cell_type": "code",
   "execution_count": 28,
   "id": "2379df34",
   "metadata": {},
   "outputs": [
    {
     "data": {
      "text/plain": [
       "<function complex.conjugate>"
      ]
     },
     "execution_count": 28,
     "metadata": {},
     "output_type": "execute_result"
    }
   ],
   "source": [
    "n.conjugate"
   ]
  },
  {
   "cell_type": "code",
   "execution_count": 29,
   "id": "ac9dc132",
   "metadata": {},
   "outputs": [
    {
     "data": {
      "text/plain": [
       "7.0"
      ]
     },
     "execution_count": 29,
     "metadata": {},
     "output_type": "execute_result"
    }
   ],
   "source": [
    "n.imag"
   ]
  },
  {
   "cell_type": "code",
   "execution_count": 30,
   "id": "f8acfa2d",
   "metadata": {},
   "outputs": [],
   "source": [
    "l=[3,4,5,6,\"sudh\",5+3j,True,241]"
   ]
  },
  {
   "cell_type": "code",
   "execution_count": 32,
   "id": "16baf4f3",
   "metadata": {},
   "outputs": [
    {
     "name": "stdout",
     "output_type": "stream",
     "text": [
      "<class 'list'> [3, 4, 5, 6, 'sudh', (5+3j), True, 241]\n"
     ]
    }
   ],
   "source": [
    "print(type(l),l)"
   ]
  },
  {
   "cell_type": "code",
   "execution_count": 33,
   "id": "246c7d96",
   "metadata": {},
   "outputs": [],
   "source": [
    "t=(3,4,5,6,\"sudh\",5+3j,True,241)"
   ]
  },
  {
   "cell_type": "code",
   "execution_count": 34,
   "id": "18e852af",
   "metadata": {},
   "outputs": [
    {
     "name": "stdout",
     "output_type": "stream",
     "text": [
      "<class 'tuple'> (3, 4, 5, 6, 'sudh', (5+3j), True, 241)\n"
     ]
    }
   ],
   "source": [
    "print(type(t),t)"
   ]
  },
  {
   "cell_type": "code",
   "execution_count": 35,
   "id": "571449e0",
   "metadata": {},
   "outputs": [],
   "source": [
    "d={\"a\":'sudh',\"b\":\"kumar\",\"c\":2314}"
   ]
  },
  {
   "cell_type": "code",
   "execution_count": 36,
   "id": "fb8120f1",
   "metadata": {},
   "outputs": [
    {
     "name": "stdout",
     "output_type": "stream",
     "text": [
      "<class 'dict'> {'a': 'sudh', 'b': 'kumar', 'c': 2314}\n"
     ]
    }
   ],
   "source": [
    "print(type(d),d)"
   ]
  },
  {
   "cell_type": "code",
   "execution_count": 37,
   "id": "a28f92ea",
   "metadata": {},
   "outputs": [],
   "source": [
    "d={45,50}"
   ]
  },
  {
   "cell_type": "code",
   "execution_count": 38,
   "id": "df8a4c37",
   "metadata": {},
   "outputs": [
    {
     "name": "stdout",
     "output_type": "stream",
     "text": [
      "<class 'set'> {50, 45}\n"
     ]
    }
   ],
   "source": [
    "print(type(d),d)"
   ]
  },
  {
   "cell_type": "code",
   "execution_count": null,
   "id": "20f8ee61",
   "metadata": {},
   "outputs": [],
   "source": []
  }
 ],
 "metadata": {
  "kernelspec": {
   "display_name": "Python 3 (ipykernel)",
   "language": "python",
   "name": "python3"
  },
  "language_info": {
   "codemirror_mode": {
    "name": "ipython",
    "version": 3
   },
   "file_extension": ".py",
   "mimetype": "text/x-python",
   "name": "python",
   "nbconvert_exporter": "python",
   "pygments_lexer": "ipython3",
   "version": "3.9.12"
  }
 },
 "nbformat": 4,
 "nbformat_minor": 5
}
