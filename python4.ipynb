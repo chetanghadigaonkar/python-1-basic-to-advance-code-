{
 "cells": [
  {
   "cell_type": "markdown",
   "id": "e35bc80e",
   "metadata": {},
   "source": [
    "# conditional statement if,elif,else class"
   ]
  },
  {
   "cell_type": "code",
   "execution_count": 2,
   "id": "ef931299",
   "metadata": {},
   "outputs": [
    {
     "name": "stdout",
     "output_type": "stream",
     "text": [
      "this is my first class\n"
     ]
    }
   ],
   "source": [
    "a=10\n",
    "if a==10:\n",
    "    print(\"this is my first class\")"
   ]
  },
  {
   "cell_type": "code",
   "execution_count": 3,
   "id": "9b29fcaf",
   "metadata": {},
   "outputs": [],
   "source": [
    "a=10\n",
    "if a==11:\n",
    "    print(\"this is my first class\")"
   ]
  },
  {
   "cell_type": "code",
   "execution_count": 4,
   "id": "4816d254",
   "metadata": {},
   "outputs": [],
   "source": [
    "a=10\n",
    "if a>5:\n",
    "    pass"
   ]
  },
  {
   "cell_type": "code",
   "execution_count": 5,
   "id": "0a618184",
   "metadata": {},
   "outputs": [],
   "source": [
    "a=10\n",
    "if a<8:\n",
    "    print(\"print this if condition is True\")"
   ]
  },
  {
   "cell_type": "code",
   "execution_count": 6,
   "id": "edd31631",
   "metadata": {},
   "outputs": [
    {
     "name": "stdout",
     "output_type": "stream",
     "text": [
      "my condition is false\n"
     ]
    }
   ],
   "source": [
    "a=10\n",
    "if a!=11:\n",
    "    print(\"my condition is false\")\n",
    "else:\n",
    "    print(\"print this\")"
   ]
  },
  {
   "cell_type": "code",
   "execution_count": 7,
   "id": "78099ea0",
   "metadata": {},
   "outputs": [
    {
     "name": "stdout",
     "output_type": "stream",
     "text": [
      "print this\n"
     ]
    }
   ],
   "source": [
    "a=10\n",
    "if a!=10:\n",
    "    print(\"my condition is false\")\n",
    "else:\n",
    "    print(\"print this\")"
   ]
  },
  {
   "cell_type": "code",
   "execution_count": 8,
   "id": "abda9e22",
   "metadata": {},
   "outputs": [
    {
     "name": "stdout",
     "output_type": "stream",
     "text": [
      "if all the blocks will fail then do this \n"
     ]
    }
   ],
   "source": [
    "a=10\n",
    "if a==12:\n",
    "    print('here we are trying to compare 10 with 12')\n",
    "elif a==11:\n",
    "    print(\"we are trying to compare 10 with 11\")\n",
    "else:\n",
    "    print(\"if all the blocks will fail then do this \")\n",
    "    "
   ]
  },
  {
   "cell_type": "code",
   "execution_count": 9,
   "id": "1b8fe25a",
   "metadata": {},
   "outputs": [
    {
     "name": "stdout",
     "output_type": "stream",
     "text": [
      "we are trying to compare 10 with 11\n"
     ]
    }
   ],
   "source": [
    "a=10\n",
    "if a==12:\n",
    "    print('here we are trying to compare 10 with 12')\n",
    "elif a==10:\n",
    "    print(\"we are trying to compare 10 with 11\")\n",
    "else:\n",
    "    print(\"if all the blocks will fail then do this \")"
   ]
  },
  {
   "cell_type": "code",
   "execution_count": 10,
   "id": "98ec39d1",
   "metadata": {},
   "outputs": [
    {
     "name": "stdout",
     "output_type": "stream",
     "text": [
      "foe sure i will be able to buy\n"
     ]
    }
   ],
   "source": [
    "price=500\n",
    "\n",
    "if price > 500:\n",
    "    print(\"may b i want be able to buy a jacket\")\n",
    "elif price < 500:\n",
    "    print(\"i will be able to buy a jacket\")\n",
    "elif price ==500:\n",
    "    print(\"foe sure i will be able to buy\")\n",
    "else:\n",
    "    print(\"i dont know\")"
   ]
  },
  {
   "cell_type": "code",
   "execution_count": 11,
   "id": "3f6af4a4",
   "metadata": {},
   "outputs": [
    {
     "data": {
      "text/plain": [
       "False"
      ]
     },
     "execution_count": 11,
     "metadata": {},
     "output_type": "execute_result"
    }
   ],
   "source": [
    "price>500"
   ]
  },
  {
   "cell_type": "code",
   "execution_count": 12,
   "id": "7bc3522b",
   "metadata": {},
   "outputs": [
    {
     "data": {
      "text/plain": [
       "False"
      ]
     },
     "execution_count": 12,
     "metadata": {},
     "output_type": "execute_result"
    }
   ],
   "source": [
    "price<500"
   ]
  },
  {
   "cell_type": "code",
   "execution_count": 14,
   "id": "30e87a31",
   "metadata": {},
   "outputs": [
    {
     "data": {
      "text/plain": [
       "True"
      ]
     },
     "execution_count": 14,
     "metadata": {},
     "output_type": "execute_result"
    }
   ],
   "source": [
    "price==500"
   ]
  },
  {
   "cell_type": "code",
   "execution_count": 16,
   "id": "880166a9",
   "metadata": {},
   "outputs": [
    {
     "data": {
      "text/plain": [
       "True"
      ]
     },
     "execution_count": 16,
     "metadata": {},
     "output_type": "execute_result"
    }
   ],
   "source": [
    "l=[1,2,3,4,5,6]\n",
    "2 in l"
   ]
  },
  {
   "cell_type": "code",
   "execution_count": 17,
   "id": "405490f5",
   "metadata": {},
   "outputs": [
    {
     "name": "stdout",
     "output_type": "stream",
     "text": [
      "try to perform a task\n"
     ]
    }
   ],
   "source": [
    "if 2 in l:\n",
    "    print(\"try to perform a task\")\n",
    "else:\n",
    "    print('do not perform this task')"
   ]
  },
  {
   "cell_type": "code",
   "execution_count": 18,
   "id": "0f7fb78a",
   "metadata": {},
   "outputs": [
    {
     "name": "stdout",
     "output_type": "stream",
     "text": [
      "do not perform this task\n"
     ]
    }
   ],
   "source": [
    "if 60 in l:\n",
    "    print(\"try to perform a task\")\n",
    "else:\n",
    "    print('do not perform this task')"
   ]
  },
  {
   "cell_type": "code",
   "execution_count": 19,
   "id": "4af40c8f",
   "metadata": {},
   "outputs": [
    {
     "data": {
      "text/plain": [
       "False"
      ]
     },
     "execution_count": 19,
     "metadata": {},
     "output_type": "execute_result"
    }
   ],
   "source": [
    "60 in l"
   ]
  },
  {
   "cell_type": "code",
   "execution_count": 20,
   "id": "1f9b370c",
   "metadata": {},
   "outputs": [
    {
     "data": {
      "text/plain": [
       "[1, 2, 3, 4, 5, 6]"
      ]
     },
     "execution_count": 20,
     "metadata": {},
     "output_type": "execute_result"
    }
   ],
   "source": [
    "l"
   ]
  },
  {
   "cell_type": "code",
   "execution_count": 22,
   "id": "e220e663",
   "metadata": {},
   "outputs": [
    {
     "name": "stdout",
     "output_type": "stream",
     "text": [
      "try to do a adition\n"
     ]
    }
   ],
   "source": [
    "if 1 in l:\n",
    "    print(\"try to do a adition\")\n",
    "elif 2 in l:\n",
    "    print('try to do sub')\n",
    "elif 3in l:\n",
    "    print('try to do mul')\n",
    "    "
   ]
  },
  {
   "cell_type": "code",
   "execution_count": 23,
   "id": "6803d176",
   "metadata": {},
   "outputs": [
    {
     "name": "stdout",
     "output_type": "stream",
     "text": [
      "try to do sub\n"
     ]
    }
   ],
   "source": [
    "if 10 in l:\n",
    "    print(\"try to do a adition\")\n",
    "elif 2 in l:\n",
    "    print('try to do sub')\n",
    "elif 3in l:\n",
    "    print('try to do mul')"
   ]
  },
  {
   "cell_type": "code",
   "execution_count": 24,
   "id": "7b16dffc",
   "metadata": {},
   "outputs": [
    {
     "name": "stdout",
     "output_type": "stream",
     "text": [
      "try to do sub\n",
      "this is new statement\n"
     ]
    }
   ],
   "source": [
    "if 10 in l:\n",
    "    print(\"try to do a adition\")\n",
    "elif 2 in l:\n",
    "    print('try to do sub')\n",
    "elif 3in l:\n",
    "    print('try to do mul')\n",
    "if 4 in l:\n",
    "    print(\"this is new statement\")"
   ]
  },
  {
   "cell_type": "code",
   "execution_count": 25,
   "id": "22d546dd",
   "metadata": {},
   "outputs": [],
   "source": [
    "a=400"
   ]
  },
  {
   "cell_type": "code",
   "execution_count": 26,
   "id": "886d61a2",
   "metadata": {},
   "outputs": [
    {
     "name": "stdout",
     "output_type": "stream",
     "text": [
      "400\n"
     ]
    }
   ],
   "source": [
    "b=input()"
   ]
  },
  {
   "cell_type": "code",
   "execution_count": 27,
   "id": "6b4fb9bc",
   "metadata": {},
   "outputs": [
    {
     "data": {
      "text/plain": [
       "(str, '400')"
      ]
     },
     "execution_count": 27,
     "metadata": {},
     "output_type": "execute_result"
    }
   ],
   "source": [
    "type(b),b"
   ]
  },
  {
   "cell_type": "code",
   "execution_count": 28,
   "id": "b5a8a243",
   "metadata": {},
   "outputs": [
    {
     "name": "stdout",
     "output_type": "stream",
     "text": [
      "400\n"
     ]
    }
   ],
   "source": [
    "b=int(input())"
   ]
  },
  {
   "cell_type": "code",
   "execution_count": 29,
   "id": "6fb98068",
   "metadata": {},
   "outputs": [
    {
     "data": {
      "text/plain": [
       "(int, 400)"
      ]
     },
     "execution_count": 29,
     "metadata": {},
     "output_type": "execute_result"
    }
   ],
   "source": [
    "type(b),b"
   ]
  },
  {
   "cell_type": "code",
   "execution_count": null,
   "id": "aecd7c2e",
   "metadata": {},
   "outputs": [],
   "source": [
    "price=int(input())\n",
    "if price <500:\n",
    "    print(\"i will be able to buy something\")\n",
    "    if price < 400:\n",
    "        print('i will be able to buy a jacket')\n",
    "    elif  price < 300:\n",
    "        print(\"i will bw able to buy a shirt\")\n",
    "    else:\n",
    "        print(\"i wont able to buy anything\")\n",
    "        \n",
    "else:\n",
    "    print('i wont be able to buy anything with this price tag')\n",
    "        "
   ]
  },
  {
   "cell_type": "code",
   "execution_count": null,
   "id": "475b568c",
   "metadata": {},
   "outputs": [],
   "source": [
    "price=int(input())\n",
    "if price <500:\n",
    "    print(\"i will be able to buy something\")\n",
    "    if price < 400:\n",
    "        print('i will be able to buy a jacket')\n",
    "    elif  price < 300:\n",
    "        print(\"i will bw able to buy a shirt\")\n",
    "        if price< 200:\n",
    "            print(\"i would ike to do something\")\n",
    "    else:\n",
    "        print(\"i wont able to buy anything\")\n",
    "        \n",
    "else:\n",
    "    print('i wont be able to buy anything with this price tag')\n",
    "    if price >500:\n",
    "        print(\"lets try someting else\")\n",
    "        "
   ]
  },
  {
   "cell_type": "code",
   "execution_count": 4,
   "id": "65788385",
   "metadata": {},
   "outputs": [
    {
     "name": "stdout",
     "output_type": "stream",
     "text": [
      "300\n",
      "no gre\n",
      "TOFEL\n",
      "try something else\n"
     ]
    }
   ],
   "source": [
    "marks=int(input())\n",
    "if marks<600:\n",
    "    print(\"no gre\")\n",
    "    if marks <500:\n",
    "        print(\"TOFEL\")\n",
    "        if marks <400:\n",
    "            print(\"try something else\")\n",
    "    else:\n",
    "        print(\"YOU GOT TOFEL\")\n",
    "else:\n",
    "    print('you got gre congratulation')\n",
    "        "
   ]
  },
  {
   "cell_type": "code",
   "execution_count": 7,
   "id": "fe248185",
   "metadata": {},
   "outputs": [
    {
     "name": "stdout",
     "output_type": "stream",
     "text": [
      " enter a floting point number-5\n",
      "entered number is a negative number\n"
     ]
    }
   ],
   "source": [
    "val=float(input(\" enter a floting point number\"))\n",
    "if val >=0:\n",
    "    if val==0:\n",
    "        print(\"entered value is zero\")\n",
    "    else:\n",
    "        print(\"enter value is positive number\")\n",
    "else:\n",
    "    print(\"entered number is a negative number\")"
   ]
  },
  {
   "cell_type": "code",
   "execution_count": 10,
   "id": "de295615",
   "metadata": {},
   "outputs": [],
   "source": [
    "a=10\n",
    "if a<10 and a==10:\n",
    "    print(\"try to do something\")"
   ]
  },
  {
   "cell_type": "code",
   "execution_count": 11,
   "id": "15f10eb8",
   "metadata": {},
   "outputs": [
    {
     "name": "stdout",
     "output_type": "stream",
     "text": [
      "this is sudh\n"
     ]
    }
   ],
   "source": [
    "a=\"sudh\"\n",
    "if a==\"sudh\" or a==\"Sudh\":\n",
    "    print(\"this is sudh\")"
   ]
  },
  {
   "cell_type": "code",
   "execution_count": 21,
   "id": "a5f3e410",
   "metadata": {},
   "outputs": [
    {
     "name": "stdout",
     "output_type": "stream",
     "text": [
      "lets do something\n"
     ]
    }
   ],
   "source": [
    "a=10\n",
    "b=11\n",
    "c=12\n",
    "d=13\n",
    "if a==9 or b==11 or c==12 or d==13:\n",
    "    print('lets do something')"
   ]
  },
  {
   "cell_type": "code",
   "execution_count": 23,
   "id": "3a72e38d",
   "metadata": {},
   "outputs": [],
   "source": [
    "d={\"key1\":\"values\",'key2':\"sudh\",\"key3\":\"ineuron\"}"
   ]
  },
  {
   "cell_type": "code",
   "execution_count": 24,
   "id": "4406e452",
   "metadata": {},
   "outputs": [
    {
     "name": "stdout",
     "output_type": "stream",
     "text": [
      "all the values are verified\n",
      "dict_values(['values', 'sudh', 'ineuron'])\n"
     ]
    }
   ],
   "source": [
    "if d['key1']=='values' and d['key2']=='sudh' and d['key3']=='ineuron':\n",
    "    print(\"all the values are verified\")\n",
    "    print(d.values())"
   ]
  },
  {
   "cell_type": "code",
   "execution_count": 27,
   "id": "1c18f56b",
   "metadata": {},
   "outputs": [
    {
     "name": "stdout",
     "output_type": "stream",
     "text": [
      "all the values are not verified\n"
     ]
    }
   ],
   "source": [
    "if d['key1']=='chetan' and d['key2']=='sudh' and d['key3']=='ineuron':\n",
    "    print(\"all the values are verified\")\n",
    "    print(d.values())\n",
    "else:\n",
    "    print(\"all the values are not verified\")"
   ]
  },
  {
   "cell_type": "code",
   "execution_count": 1,
   "id": "01a9bb0d",
   "metadata": {},
   "outputs": [],
   "source": [
    "l=[1,2,3,4,5,\"sudh\",234.45]"
   ]
  },
  {
   "cell_type": "code",
   "execution_count": 2,
   "id": "da891664",
   "metadata": {},
   "outputs": [
    {
     "name": "stdout",
     "output_type": "stream",
     "text": [
      "1\n",
      "2\n",
      "3\n",
      "4\n",
      "5\n",
      "sudh\n",
      "234.45\n"
     ]
    }
   ],
   "source": [
    "for i in l:\n",
    "    print(i)"
   ]
  },
  {
   "cell_type": "code",
   "execution_count": 3,
   "id": "d8b68241",
   "metadata": {},
   "outputs": [
    {
     "name": "stdout",
     "output_type": "stream",
     "text": [
      "2\n",
      "3\n",
      "4\n",
      "5\n",
      "6\n",
      "sudh1\n",
      "235.45\n"
     ]
    }
   ],
   "source": [
    "for i in l:\n",
    "    if type(i)==int or type(i)==float:\n",
    "        print(i+1)\n",
    "    elif type(i)==str:\n",
    "        print(i+str(1))\n",
    "    "
   ]
  },
  {
   "cell_type": "code",
   "execution_count": 4,
   "id": "46530153",
   "metadata": {},
   "outputs": [],
   "source": [
    "a=1.2"
   ]
  },
  {
   "cell_type": "code",
   "execution_count": 5,
   "id": "54b7eedd",
   "metadata": {},
   "outputs": [
    {
     "data": {
      "text/plain": [
       "2.2"
      ]
     },
     "execution_count": 5,
     "metadata": {},
     "output_type": "execute_result"
    }
   ],
   "source": [
    "a+1"
   ]
  },
  {
   "cell_type": "code",
   "execution_count": null,
   "id": "fa727bc1",
   "metadata": {},
   "outputs": [],
   "source": []
  }
 ],
 "metadata": {
  "kernelspec": {
   "display_name": "Python 3 (ipykernel)",
   "language": "python",
   "name": "python3"
  },
  "language_info": {
   "codemirror_mode": {
    "name": "ipython",
    "version": 3
   },
   "file_extension": ".py",
   "mimetype": "text/x-python",
   "name": "python",
   "nbconvert_exporter": "python",
   "pygments_lexer": "ipython3",
   "version": "3.9.12"
  }
 },
 "nbformat": 4,
 "nbformat_minor": 5
}
