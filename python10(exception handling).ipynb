{
 "cells": [
  {
   "cell_type": "code",
   "execution_count": 1,
   "id": "5ef0a50b",
   "metadata": {},
   "outputs": [
    {
     "name": "stdout",
     "output_type": "stream",
     "text": [
      "30\n"
     ]
    }
   ],
   "source": [
    "a=10\n",
    "b=20\n",
    "c=a+b\n",
    "print(c)"
   ]
  },
  {
   "cell_type": "code",
   "execution_count": 2,
   "id": "66e595ed",
   "metadata": {},
   "outputs": [
    {
     "ename": "SyntaxError",
     "evalue": "unexpected EOF while parsing (1116166254.py, line 4)",
     "output_type": "error",
     "traceback": [
      "\u001b[1;36m  Input \u001b[1;32mIn [2]\u001b[1;36m\u001b[0m\n\u001b[1;33m    print(c\u001b[0m\n\u001b[1;37m           ^\u001b[0m\n\u001b[1;31mSyntaxError\u001b[0m\u001b[1;31m:\u001b[0m unexpected EOF while parsing\n"
     ]
    }
   ],
   "source": [
    "a=10\n",
    "b=20\n",
    "c=a+b\n",
    "print(c"
   ]
  },
  {
   "cell_type": "code",
   "execution_count": 3,
   "id": "fafc06d5",
   "metadata": {},
   "outputs": [
    {
     "ename": "TypeError",
     "evalue": "unsupported operand type(s) for +: 'int' and 'str'",
     "output_type": "error",
     "traceback": [
      "\u001b[1;31m---------------------------------------------------------------------------\u001b[0m",
      "\u001b[1;31mTypeError\u001b[0m                                 Traceback (most recent call last)",
      "Input \u001b[1;32mIn [3]\u001b[0m, in \u001b[0;36m<cell line: 3>\u001b[1;34m()\u001b[0m\n\u001b[0;32m      1\u001b[0m a\u001b[38;5;241m=\u001b[39m\u001b[38;5;241m10\u001b[39m\n\u001b[0;32m      2\u001b[0m b\u001b[38;5;241m=\u001b[39m\u001b[38;5;124m\"\u001b[39m\u001b[38;5;124ms\u001b[39m\u001b[38;5;124m\"\u001b[39m\n\u001b[1;32m----> 3\u001b[0m c\u001b[38;5;241m=\u001b[39m\u001b[43ma\u001b[49m\u001b[38;5;241;43m+\u001b[39;49m\u001b[43mb\u001b[49m\n\u001b[0;32m      4\u001b[0m prnt(c)\n",
      "\u001b[1;31mTypeError\u001b[0m: unsupported operand type(s) for +: 'int' and 'str'"
     ]
    }
   ],
   "source": [
    "a=10\n",
    "b=\"s\"\n",
    "c=a+b\n",
    "prnt(c)"
   ]
  },
  {
   "cell_type": "code",
   "execution_count": 5,
   "id": "3cd18417",
   "metadata": {},
   "outputs": [
    {
     "name": "stdout",
     "output_type": "stream",
     "text": [
      "enter first number10\n",
      "enter second number0\n"
     ]
    },
    {
     "ename": "ZeroDivisionError",
     "evalue": "division by zero",
     "output_type": "error",
     "traceback": [
      "\u001b[1;31m---------------------------------------------------------------------------\u001b[0m",
      "\u001b[1;31mZeroDivisionError\u001b[0m                         Traceback (most recent call last)",
      "Input \u001b[1;32mIn [5]\u001b[0m, in \u001b[0;36m<cell line: 3>\u001b[1;34m()\u001b[0m\n\u001b[0;32m      1\u001b[0m a\u001b[38;5;241m=\u001b[39m\u001b[38;5;28mint\u001b[39m(\u001b[38;5;28minput\u001b[39m(\u001b[38;5;124m\"\u001b[39m\u001b[38;5;124menter first number\u001b[39m\u001b[38;5;124m\"\u001b[39m))\n\u001b[0;32m      2\u001b[0m b\u001b[38;5;241m=\u001b[39m\u001b[38;5;28mint\u001b[39m(\u001b[38;5;28minput\u001b[39m(\u001b[38;5;124m\"\u001b[39m\u001b[38;5;124menter second number\u001b[39m\u001b[38;5;124m\"\u001b[39m))\n\u001b[1;32m----> 3\u001b[0m c\u001b[38;5;241m=\u001b[39m\u001b[43ma\u001b[49m\u001b[38;5;241;43m/\u001b[39;49m\u001b[43mb\u001b[49m\n\u001b[0;32m      4\u001b[0m \u001b[38;5;28mprint\u001b[39m(c)\n\u001b[0;32m      5\u001b[0m d\u001b[38;5;241m=\u001b[39ma\u001b[38;5;241m*\u001b[39mb\n",
      "\u001b[1;31mZeroDivisionError\u001b[0m: division by zero"
     ]
    }
   ],
   "source": [
    "a=int(input(\"enter first number\"))\n",
    "b=int(input(\"enter second number\"))\n",
    "c=a/b\n",
    "print(c)\n",
    "d=a*b\n",
    "print(d)"
   ]
  },
  {
   "cell_type": "code",
   "execution_count": null,
   "id": "ca50525c",
   "metadata": {},
   "outputs": [],
   "source": [
    "try\n",
    "except\n",
    "else\n",
    "raise\n",
    "finally"
   ]
  },
  {
   "cell_type": "code",
   "execution_count": 7,
   "id": "af45e9b0",
   "metadata": {},
   "outputs": [
    {
     "name": "stdout",
     "output_type": "stream",
     "text": [
      "enter first number10\n",
      "enter second number0\n",
      "b should not be a zero\n"
     ]
    }
   ],
   "source": [
    "a=int(input(\"enter first number\")) #zerodivisionerror\n",
    "b=int(input(\"enter second number\"))\n",
    "try:\n",
    "    c=a/b\n",
    "    print(c)\n",
    "except:\n",
    "    print(\"b should not be a zero\")"
   ]
  },
  {
   "cell_type": "code",
   "execution_count": 8,
   "id": "3346ee7b",
   "metadata": {},
   "outputs": [
    {
     "name": "stdout",
     "output_type": "stream",
     "text": [
      "enter first number10\n",
      "enter second number0\n"
     ]
    },
    {
     "ename": "ZeroDivisionError",
     "evalue": "division by zero",
     "output_type": "error",
     "traceback": [
      "\u001b[1;31m---------------------------------------------------------------------------\u001b[0m",
      "\u001b[1;31mZeroDivisionError\u001b[0m                         Traceback (most recent call last)",
      "Input \u001b[1;32mIn [8]\u001b[0m, in \u001b[0;36m<cell line: 3>\u001b[1;34m()\u001b[0m\n\u001b[0;32m      1\u001b[0m a\u001b[38;5;241m=\u001b[39m\u001b[38;5;28mint\u001b[39m(\u001b[38;5;28minput\u001b[39m(\u001b[38;5;124m\"\u001b[39m\u001b[38;5;124menter first number\u001b[39m\u001b[38;5;124m\"\u001b[39m))\n\u001b[0;32m      2\u001b[0m b\u001b[38;5;241m=\u001b[39m\u001b[38;5;28mint\u001b[39m(\u001b[38;5;28minput\u001b[39m(\u001b[38;5;124m\"\u001b[39m\u001b[38;5;124menter second number\u001b[39m\u001b[38;5;124m\"\u001b[39m))\n\u001b[1;32m----> 3\u001b[0m c\u001b[38;5;241m=\u001b[39m\u001b[43ma\u001b[49m\u001b[38;5;241;43m/\u001b[39;49m\u001b[43mb\u001b[49m\n\u001b[0;32m      4\u001b[0m \u001b[38;5;28mprint\u001b[39m(c)\n",
      "\u001b[1;31mZeroDivisionError\u001b[0m: division by zero"
     ]
    }
   ],
   "source": [
    "a=int(input(\"enter first number\"))\n",
    "b=int(input(\"enter second number\"))\n",
    "c=a/b\n",
    "print(c)"
   ]
  },
  {
   "cell_type": "code",
   "execution_count": 9,
   "id": "2da779e2",
   "metadata": {},
   "outputs": [
    {
     "name": "stdout",
     "output_type": "stream",
     "text": [
      "enter first number10\n",
      "enter second number0\n",
      "b should not be a zero\n",
      "10\n"
     ]
    }
   ],
   "source": [
    "a=int(input(\"enter first number\")) \n",
    "b=int(input(\"enter second number\"))\n",
    "try:\n",
    "    c=a/b\n",
    "    print(c)\n",
    "except:\n",
    "    print(\"b should not be a zero\")\n",
    "d=a+b\n",
    "print(d)"
   ]
  },
  {
   "cell_type": "code",
   "execution_count": 1,
   "id": "de461be0",
   "metadata": {},
   "outputs": [
    {
     "ename": "SyntaxError",
     "evalue": "unmatched ')' (1487791393.py, line 5)",
     "output_type": "error",
     "traceback": [
      "\u001b[1;36m  Input \u001b[1;32mIn [1]\u001b[1;36m\u001b[0m\n\u001b[1;33m    print(c))\u001b[0m\n\u001b[1;37m            ^\u001b[0m\n\u001b[1;31mSyntaxError\u001b[0m\u001b[1;31m:\u001b[0m unmatched ')'\n"
     ]
    }
   ],
   "source": [
    "a=int(input(\"enter first number\")) \n",
    "b=int(input(\"enter second number\"))\n",
    "try:\n",
    "    c=a/b\n",
    "    print(c))\n",
    "except:\n",
    "    print(\"wrong syntax\")\n",
    "d=a+b\n",
    "print(d)"
   ]
  },
  {
   "cell_type": "code",
   "execution_count": null,
   "id": "773cf7d4",
   "metadata": {},
   "outputs": [],
   "source": [
    "a=input(\"enter first number:\")\n",
    "b=input(\"second number:\")\n",
    "try:\n",
    "    c=a/b\n",
    "    print(c)\n",
    "    d=a+b\n",
    "    print(d)\n",
    "except:\n",
    "    print(\"b should not be a zero\")\n",
    "except:\n",
    "    print(\"please input number only\")\n"
   ]
  },
  {
   "cell_type": "code",
   "execution_count": 2,
   "id": "e79f896e",
   "metadata": {},
   "outputs": [
    {
     "name": "stdout",
     "output_type": "stream",
     "text": [
      "enter first number:10\n",
      "second number:0\n",
      "b should not be a zero\n"
     ]
    }
   ],
   "source": [
    "a=input(\"enter first number:\")\n",
    "b=input(\"second number:\")\n",
    "try:\n",
    "    c=a/b\n",
    "    print(c)\n",
    "    d=a+b\n",
    "    print(d)\n",
    "except:\n",
    "    print(\"b should not be a zero\")"
   ]
  },
  {
   "cell_type": "code",
   "execution_count": null,
   "id": "c3e900be",
   "metadata": {},
   "outputs": [
    {
     "name": "stdout",
     "output_type": "stream",
     "text": [
      "enter first number20\n",
      "enter second numbera\n",
      "there should not be string\n"
     ]
    }
   ],
   "source": [
    "while True:\n",
    "    try:\n",
    "        a=int(input(\"enter first number\"))\n",
    "        b=int(input(\"enter second number\"))\n",
    "        c=a/b\n",
    "        print(c)\n",
    "        break\n",
    "    except ValueError :\n",
    "        print(\"there should not be string\")\n",
    "    except ZeroDivisionError:\n",
    "        print(\"non zero denomitor\")"
   ]
  },
  {
   "cell_type": "code",
   "execution_count": null,
   "id": "ae64e776",
   "metadata": {},
   "outputs": [
    {
     "name": "stdout",
     "output_type": "stream",
     "text": [
      "first number:10\n",
      "second number:0\n",
      "division by zero\n"
     ]
    }
   ],
   "source": [
    "while True:\n",
    "    try:\n",
    "        a=int(input(\"first number:\"))\n",
    "        b=int(input(\"second number:\"))\n",
    "        c=a/b\n",
    "        print(\"div\",c)\n",
    "        break\n",
    "    except ZeroDivisionError as e:\n",
    "        print(e)"
   ]
  },
  {
   "cell_type": "code",
   "execution_count": null,
   "id": "389f79ab",
   "metadata": {},
   "outputs": [
    {
     "name": "stdout",
     "output_type": "stream",
     "text": [
      "first number:10\n",
      "second number:0\n",
      "(<class 'ZeroDivisionError'>, ZeroDivisionError('division by zero'), <traceback object at 0x000002EB86350800>)\n"
     ]
    }
   ],
   "source": [
    "import sys\n",
    "while True:\n",
    "    try:\n",
    "        a=int(input(\"first number:\"))\n",
    "        b=int(input(\"second number:\"))\n",
    "        c=a/b\n",
    "        print(\"div\",c)\n",
    "        break\n",
    "    except:\n",
    "        print(sys.exc_info())"
   ]
  },
  {
   "cell_type": "code",
   "execution_count": 1,
   "id": "972016f3",
   "metadata": {},
   "outputs": [
    {
     "name": "stdout",
     "output_type": "stream",
     "text": [
      "first number:10\n",
      "second number:0\n",
      "exception class <class 'ZeroDivisionError'>\n",
      "exception message division by zero\n",
      "line number 6\n",
      "first number:10\n",
      "second number:5\n",
      "div 2.0\n"
     ]
    }
   ],
   "source": [
    "import sys\n",
    "while True:\n",
    "    try:\n",
    "        a=int(input(\"first number:\"))\n",
    "        b=int(input(\"second number:\"))\n",
    "        c=a/b\n",
    "        print(\"div\",c)\n",
    "        break\n",
    "    except:\n",
    "        a,b,c=sys.exc_info()\n",
    "        print(\"exception class\",a)\n",
    "        print(\"exception message\",b)\n",
    "        print(\"line number\",c.tb_lineno)"
   ]
  },
  {
   "cell_type": "code",
   "execution_count": 1,
   "id": "ff57c27d",
   "metadata": {},
   "outputs": [
    {
     "name": "stdout",
     "output_type": "stream",
     "text": [
      "first number:10\n",
      "second number:0\n",
      "Traceback (most recent call last):\n",
      "  File \"C:\\Users\\dell\\AppData\\Local\\Temp\\ipykernel_24924\\7080318.py\", line 6, in <cell line: 3>\n",
      "    c=a/b\n",
      "ZeroDivisionError: division by zero\n",
      "\n",
      "first number:10\n",
      "second number:10\n",
      "div 1.0\n"
     ]
    }
   ],
   "source": [
    "import traceback\n",
    "while True:\n",
    "    try:\n",
    "        a=int(input(\"first number:\"))\n",
    "        b=int(input(\"second number:\"))\n",
    "        c=a/b\n",
    "        print(\"div\",c)\n",
    "        break\n",
    "    except:\n",
    "        print(traceback.format_exc())"
   ]
  },
  {
   "cell_type": "code",
   "execution_count": 4,
   "id": "96c1fd62",
   "metadata": {},
   "outputs": [
    {
     "name": "stdout",
     "output_type": "stream",
     "text": [
      "first number124\n",
      "second numbersunny\n",
      "please enter int only\n",
      "first numbersunny\n",
      "please enter int only\n",
      "first number342\n",
      "second numbersdf\n",
      "please enter int only\n",
      "first number10\n",
      "second number20\n",
      "div is 0.5\n"
     ]
    }
   ],
   "source": [
    "while True:\n",
    "    try:\n",
    "        a=int(input(\"first number\"))\n",
    "        b=int(input(\"second number\"))\n",
    "        if a<0 or b<0:\n",
    "            raise Exception(\"neg number not allowd\")\n",
    "        c=a/b\n",
    "        print('div is',c)\n",
    "        break\n",
    "    except ValueError:\n",
    "        print(\"please enter int only\")\n",
    "    except ZeroDivisionError:\n",
    "         print(\"please enter non zero denomitor\")\n",
    "    except Exception as e:\n",
    "        print(e)"
   ]
  },
  {
   "cell_type": "code",
   "execution_count": 8,
   "id": "5657458f",
   "metadata": {},
   "outputs": [
    {
     "name": "stdout",
     "output_type": "stream",
     "text": [
      "first number10\n",
      "second number-10\n",
      "name 'NegativeNumberException' is not defined\n",
      "first number10\n",
      "second number230\n",
      "div is 0.043478260869565216\n"
     ]
    }
   ],
   "source": [
    "class NegativeNumberException(Exception):\n",
    "    \n",
    "    while True:\n",
    "      try:\n",
    "          a=int(input(\"first number\"))\n",
    "          b=int(input(\"second number\"))\n",
    "          if a<0 or b<0:\n",
    "               raise NegativeNumberException(\"neg number not allowd\")\n",
    "          c=a/b\n",
    "          print('div is',c)\n",
    "          break\n",
    "      except ValueError:\n",
    "          print(\"please enter int only\")\n",
    "      except ZeroDivisionError:\n",
    "          print(\"please enter non zero denomitor\")\n",
    "      except Exception as e:\n",
    "          print(e)"
   ]
  },
  {
   "cell_type": "code",
   "execution_count": 9,
   "id": "014bdbd5",
   "metadata": {},
   "outputs": [
    {
     "name": "stdout",
     "output_type": "stream",
     "text": [
      "first number10\n",
      "second number0\n",
      "dont use zero in denomitor\n",
      "hello\n",
      "python\n"
     ]
    }
   ],
   "source": [
    "try:\n",
    "     a=int(input(\"first number\"))\n",
    "     b=int(input(\"second number\"))\n",
    "     c=a/b\n",
    "     print(c)\n",
    "except:\n",
    "    print(\"dont use zero in denomitor\")\n",
    "finally:\n",
    "    print('hello')\n",
    "    print('python')"
   ]
  },
  {
   "cell_type": "code",
   "execution_count": 10,
   "id": "86709074",
   "metadata": {},
   "outputs": [
    {
     "name": "stdout",
     "output_type": "stream",
     "text": [
      "first number10\n",
      "second number0\n",
      "dont use zero in denomitor\n",
      "hello\n",
      "python\n"
     ]
    }
   ],
   "source": [
    "try:\n",
    "     a=int(input(\"first number\"))\n",
    "     b=int(input(\"second number\"))\n",
    "     c=a/b\n",
    "     print(c)\n",
    "except:\n",
    "    print(\"dont use zero in denomitor\")\n",
    "    \n",
    "print('hello')\n",
    "print('python')"
   ]
  },
  {
   "cell_type": "code",
   "execution_count": 13,
   "id": "65486afd",
   "metadata": {},
   "outputs": [
    {
     "name": "stdout",
     "output_type": "stream",
     "text": [
      "first number10\n",
      "second number5\n",
      "2.0\n",
      "python rock!!\n"
     ]
    }
   ],
   "source": [
    "try:\n",
    "    a=int(input(\"first number\"))\n",
    "    b=int(input(\"second number\"))\n",
    "    c=a/b\n",
    "    \n",
    "    print(c)\n",
    "except:\n",
    "    print(\"dont use zero in denomitor\")\n",
    "else:\n",
    "    print(\"python rock!!\")"
   ]
  },
  {
   "cell_type": "code",
   "execution_count": null,
   "id": "1f101bac",
   "metadata": {},
   "outputs": [],
   "source": []
  },
  {
   "cell_type": "code",
   "execution_count": null,
   "id": "dd3227b3",
   "metadata": {},
   "outputs": [],
   "source": []
  }
 ],
 "metadata": {
  "kernelspec": {
   "display_name": "Python 3 (ipykernel)",
   "language": "python",
   "name": "python3"
  },
  "language_info": {
   "codemirror_mode": {
    "name": "ipython",
    "version": 3
   },
   "file_extension": ".py",
   "mimetype": "text/x-python",
   "name": "python",
   "nbconvert_exporter": "python",
   "pygments_lexer": "ipython3",
   "version": "3.9.12"
  }
 },
 "nbformat": 4,
 "nbformat_minor": 5
}
